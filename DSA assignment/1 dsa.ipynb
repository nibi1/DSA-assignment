{
 "cells": [
  {
   "cell_type": "code",
   "execution_count": 32,
   "id": "4f9d48ca",
   "metadata": {},
   "outputs": [],
   "source": [
    "class Array:\n",
    "    def __init__(self,limit):\n",
    "        self.limit = limit\n",
    "        self.size = 0\n",
    "        self.elements = []\n",
    "        \n",
    "        \n",
    "    def add_item(self):\n",
    "        if self.size<self.limit:\n",
    "            number = int(input(\"Enter a number:\"))\n",
    "            self.elements.append(number) \n",
    "            self.size+=1 \n",
    "        else:\n",
    "            print('There is no space for new element')\n",
    "            \n",
    "            \n",
    "    def find_array(self):\n",
    "        self.sum = int(input(\"enter the sum required\"))\n",
    "        print([[i,j] for i in self.elements for j in self.elements[1:] if i + j == self.sum ])\n",
    "        "
   ]
  },
  {
   "cell_type": "code",
   "execution_count": 21,
   "id": "e739cd15",
   "metadata": {},
   "outputs": [],
   "source": [
    "arr1 = Array(6)"
   ]
  },
  {
   "cell_type": "code",
   "execution_count": 30,
   "id": "7d6f0071",
   "metadata": {},
   "outputs": [
    {
     "name": "stdout",
     "output_type": "stream",
     "text": [
      "There is no space for new element\n"
     ]
    }
   ],
   "source": [
    "arr1.add_item()\n"
   ]
  },
  {
   "cell_type": "code",
   "execution_count": 33,
   "id": "dfa0d9d9",
   "metadata": {},
   "outputs": [
    {
     "name": "stdout",
     "output_type": "stream",
     "text": [
      "enter the sum required6\n",
      "[[1, 5], [3, 3], [3, 3], [3, 3], [3, 3]]\n"
     ]
    }
   ],
   "source": [
    "arr1.find_array()"
   ]
  },
  {
   "cell_type": "code",
   "execution_count": 12,
   "id": "2a8f4cc9",
   "metadata": {},
   "outputs": [
    {
     "name": "stdout",
     "output_type": "stream",
     "text": [
      "<__main__.Array object at 0x0000017DB3C18D90>\n"
     ]
    }
   ],
   "source": [
    "print(arr)"
   ]
  },
  {
   "cell_type": "code",
   "execution_count": 13,
   "id": "97d34a10",
   "metadata": {},
   "outputs": [
    {
     "ename": "AttributeError",
     "evalue": "'Array' object has no attribute 'group'",
     "output_type": "error",
     "traceback": [
      "\u001b[1;31m---------------------------------------------------------------------------\u001b[0m",
      "\u001b[1;31mAttributeError\u001b[0m                            Traceback (most recent call last)",
      "Input \u001b[1;32mIn [13]\u001b[0m, in \u001b[0;36m<cell line: 1>\u001b[1;34m()\u001b[0m\n\u001b[1;32m----> 1\u001b[0m \u001b[38;5;28mprint\u001b[39m(\u001b[43marr\u001b[49m\u001b[38;5;241;43m.\u001b[39;49m\u001b[43mgroup\u001b[49m())\n",
      "\u001b[1;31mAttributeError\u001b[0m: 'Array' object has no attribute 'group'"
     ]
    }
   ],
   "source": []
  },
  {
   "cell_type": "code",
   "execution_count": null,
   "id": "c9ceb966",
   "metadata": {},
   "outputs": [],
   "source": []
  }
 ],
 "metadata": {
  "kernelspec": {
   "display_name": "Python 3 (ipykernel)",
   "language": "python",
   "name": "python3"
  },
  "language_info": {
   "codemirror_mode": {
    "name": "ipython",
    "version": 3
   },
   "file_extension": ".py",
   "mimetype": "text/x-python",
   "name": "python",
   "nbconvert_exporter": "python",
   "pygments_lexer": "ipython3",
   "version": "3.9.7"
  }
 },
 "nbformat": 4,
 "nbformat_minor": 5
}
