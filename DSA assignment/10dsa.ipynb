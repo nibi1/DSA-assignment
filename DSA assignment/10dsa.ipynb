{
 "cells": [
  {
   "cell_type": "markdown",
   "id": "bf49cd84",
   "metadata": {},
   "source": [
    "#  `Write a program to find the smallest number using a stack`"
   ]
  },
  {
   "cell_type": "code",
   "execution_count": 19,
   "id": "b26db9dc",
   "metadata": {},
   "outputs": [],
   "source": [
    "\n",
    "class Find_smallest_no:\n",
    "    def __init__(self,limit):\n",
    "        self.limit = limit\n",
    "        self.elements = []\n",
    "        \n",
    "        \n",
    "    def push(self):\n",
    "        if len(self.elements)== self.limit:\n",
    "            print('stack is full')\n",
    "        else:\n",
    "            number = int(input(\"Enter elements to stac1k: \"))\n",
    "            self.elements.append(number)\n",
    "            \n",
    "    def display(self):\n",
    "        if len(self.elements) == 0:\n",
    "            print(\"STACK IS EMPTY!!!!!\")\n",
    "        else:\n",
    "            print(f\"The original stack is {self.elements}\")\n",
    "        \n",
    "    def smallest_no(self,min = 9999999999999999999999999999999999999999999999999999999999999999999999999):\n",
    "        if len(self.elements) == 0:\n",
    "            min = None\n",
    "            print(\"STACK IS EMPTY!!!!!\")\n",
    "            \n",
    "        else:\n",
    "            for i in range(len(self.elements)):\n",
    "                if self.elements[i] < min:\n",
    "                    min = self.elements[i]\n",
    "        return min\n",
    "            \n",
    "    "
   ]
  },
  {
   "cell_type": "code",
   "execution_count": 30,
   "id": "5e8915c6",
   "metadata": {},
   "outputs": [],
   "source": [
    "stack = Find_smallest_no(6)\n"
   ]
  },
  {
   "cell_type": "code",
   "execution_count": 27,
   "id": "39f6ddcf",
   "metadata": {},
   "outputs": [
    {
     "name": "stdout",
     "output_type": "stream",
     "text": [
      "stack is full\n"
     ]
    }
   ],
   "source": [
    "stack.push()"
   ]
  },
  {
   "cell_type": "code",
   "execution_count": 31,
   "id": "5c5aca4b",
   "metadata": {},
   "outputs": [
    {
     "name": "stdout",
     "output_type": "stream",
     "text": [
      "STACK IS EMPTY!!!!!\n"
     ]
    }
   ],
   "source": [
    "stack.smallest_no()"
   ]
  },
  {
   "cell_type": "code",
   "execution_count": 32,
   "id": "6212f031",
   "metadata": {},
   "outputs": [
    {
     "name": "stdout",
     "output_type": "stream",
     "text": [
      "The original stack is []\n"
     ]
    }
   ],
   "source": [
    "stack.display()"
   ]
  },
  {
   "cell_type": "code",
   "execution_count": null,
   "id": "8f7aa339",
   "metadata": {},
   "outputs": [],
   "source": []
  }
 ],
 "metadata": {
  "kernelspec": {
   "display_name": "Python 3 (ipykernel)",
   "language": "python",
   "name": "python3"
  },
  "language_info": {
   "codemirror_mode": {
    "name": "ipython",
    "version": 3
   },
   "file_extension": ".py",
   "mimetype": "text/x-python",
   "name": "python",
   "nbconvert_exporter": "python",
   "pygments_lexer": "ipython3",
   "version": "3.9.7"
  }
 },
 "nbformat": 4,
 "nbformat_minor": 5
}
