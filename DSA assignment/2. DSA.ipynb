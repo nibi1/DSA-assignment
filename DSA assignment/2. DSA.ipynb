{
 "cells": [
  {
   "cell_type": "code",
   "execution_count": 66,
   "id": "74b89941",
   "metadata": {},
   "outputs": [],
   "source": [
    "class Reverse_the_arr:\n",
    "    def __init__(self,limit):\n",
    "        self.limit = limit\n",
    "        self.size = 0\n",
    "        self.elements = []\n",
    "        \n",
    "    def add_item(self):\n",
    "        if self.size<self.limit:\n",
    "            element = input(\"Enter element to array\")\n",
    "            self.elements.append(element) \n",
    "            self.size+=1 \n",
    "        else:\n",
    "            print('There is no space for new element')\n",
    "            \n",
    "    def display_original(self):\n",
    "        if len(self.elements) == 0:\n",
    "            print(\"THE ARRAY IS EMPTY!!!!\")\n",
    "        else:\n",
    "            print(\"The Original array\")\n",
    "            print(self.elements)\n",
    "    \n",
    "    def reverse_arr(self):\n",
    "        if len(self.elements) == 0:\n",
    "            print(\"THE ARRAY IS EMPTY!!!!\")\n",
    "        else:\n",
    "            print(\"Array in reverse order: \")\n",
    "            self.elements.reverse()\n",
    "            print(self.elements)\n",
    "           \n",
    "        \n",
    "            "
   ]
  },
  {
   "cell_type": "code",
   "execution_count": 67,
   "id": "61815b36",
   "metadata": {},
   "outputs": [],
   "source": [
    "arr = Reverse_the_arr(5)\n"
   ]
  },
  {
   "cell_type": "code",
   "execution_count": 71,
   "id": "72d647d2",
   "metadata": {},
   "outputs": [
    {
     "name": "stdout",
     "output_type": "stream",
     "text": [
      "Enter element to arrayhvjhg\n"
     ]
    }
   ],
   "source": [
    "arr.add_item()"
   ]
  },
  {
   "cell_type": "code",
   "execution_count": 72,
   "id": "2f83d18a",
   "metadata": {},
   "outputs": [
    {
     "name": "stdout",
     "output_type": "stream",
     "text": [
      "The Original array\n",
      "['5464', '09-0', '243', 'hvjhg']\n"
     ]
    }
   ],
   "source": [
    "arr.display_original()"
   ]
  },
  {
   "cell_type": "code",
   "execution_count": 73,
   "id": "8aa5d2cc",
   "metadata": {
    "scrolled": true
   },
   "outputs": [
    {
     "name": "stdout",
     "output_type": "stream",
     "text": [
      "Array in reverse order: \n",
      "['hvjhg', '243', '09-0', '5464']\n"
     ]
    }
   ],
   "source": [
    "arr.reverse_arr()"
   ]
  },
  {
   "cell_type": "code",
   "execution_count": null,
   "id": "829905ee",
   "metadata": {},
   "outputs": [],
   "source": []
  }
 ],
 "metadata": {
  "kernelspec": {
   "display_name": "Python 3 (ipykernel)",
   "language": "python",
   "name": "python3"
  },
  "language_info": {
   "codemirror_mode": {
    "name": "ipython",
    "version": 3
   },
   "file_extension": ".py",
   "mimetype": "text/x-python",
   "name": "python",
   "nbconvert_exporter": "python",
   "pygments_lexer": "ipython3",
   "version": "3.9.7"
  }
 },
 "nbformat": 4,
 "nbformat_minor": 5
}
