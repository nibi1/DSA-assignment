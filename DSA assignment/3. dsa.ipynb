{
 "cells": [
  {
   "cell_type": "code",
   "execution_count": 1,
   "id": "46e6aaf3",
   "metadata": {},
   "outputs": [
    {
     "name": "stdout",
     "output_type": "stream",
     "text": [
      "ENTER string 1abcd\n",
      "ENTER string 2cdab\n",
      "s2 is rotation of s1\n"
     ]
    }
   ],
   "source": [
    "\n",
    "def checkString(s1, s2, indexFound, Size):\n",
    "    for i in range(Size):\n",
    "        if(s1[i] != s2[(indexFound + i) % Size]):\n",
    "            return False\n",
    "    return True\n",
    " \n",
    "\n",
    "s1 = input(\"ENTER string 1\")\n",
    "s2 = input(\"ENTER string 2\")\n",
    " \n",
    "if(len(s1) != len(s2)):\n",
    "    print(\"String2 is not a rotation on string1\")\n",
    "else: \n",
    "    indexes = [] \n",
    "    Size = len(s1)\n",
    "    firstChar = s1[0]\n",
    "    for i in range(Size):\n",
    "        if(s2[i] == firstChar):\n",
    "            indexes.append(i)\n",
    " \n",
    "    isRotation = False\n",
    "    for idx in indexes:\n",
    "        isRotation = checkString(s1, s2, idx, Size)\n",
    "    if(isRotation):\n",
    "        print(\"String2 is  a rotation on string1\")\n",
    "    else:\n",
    "        print(\"String2 is not a rotation on string1\")"
   ]
  },
  {
   "cell_type": "code",
   "execution_count": null,
   "id": "edb2ea52",
   "metadata": {},
   "outputs": [],
   "source": []
  }
 ],
 "metadata": {
  "kernelspec": {
   "display_name": "Python 3 (ipykernel)",
   "language": "python",
   "name": "python3"
  },
  "language_info": {
   "codemirror_mode": {
    "name": "ipython",
    "version": 3
   },
   "file_extension": ".py",
   "mimetype": "text/x-python",
   "name": "python",
   "nbconvert_exporter": "python",
   "pygments_lexer": "ipython3",
   "version": "3.9.7"
  }
 },
 "nbformat": 4,
 "nbformat_minor": 5
}
