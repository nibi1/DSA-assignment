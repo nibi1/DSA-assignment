{
 "cells": [
  {
   "cell_type": "code",
   "execution_count": 11,
   "id": "5134429d",
   "metadata": {},
   "outputs": [
    {
     "name": "stdout",
     "output_type": "stream",
     "text": [
      "enter a string: hshofpoeirpgijkhjksd\n",
      "['f', 'e', 'r', 'g', 'd']\n"
     ]
    },
    {
     "data": {
      "text/plain": [
       "'f'"
      ]
     },
     "execution_count": 11,
     "metadata": {},
     "output_type": "execute_result"
    }
   ],
   "source": [
    "repeatation = []\n",
    "def first_non_repeated_char(string):\n",
    "    for i in string:\n",
    "        count = string.count(i)\n",
    "        if count == 1:\n",
    "            repeatation.append(i)\n",
    "    print(repeatation)\n",
    "    return repeatation[0]\n",
    "    \n",
    "string = input(\"enter a string: \")\n",
    "first_non_repeated_char(string)"
   ]
  },
  {
   "cell_type": "code",
   "execution_count": null,
   "id": "ae1cf1ed",
   "metadata": {},
   "outputs": [],
   "source": []
  },
  {
   "cell_type": "code",
   "execution_count": null,
   "id": "8888b81f",
   "metadata": {},
   "outputs": [],
   "source": []
  }
 ],
 "metadata": {
  "kernelspec": {
   "display_name": "Python 3 (ipykernel)",
   "language": "python",
   "name": "python3"
  },
  "language_info": {
   "codemirror_mode": {
    "name": "ipython",
    "version": 3
   },
   "file_extension": ".py",
   "mimetype": "text/x-python",
   "name": "python",
   "nbconvert_exporter": "python",
   "pygments_lexer": "ipython3",
   "version": "3.9.7"
  }
 },
 "nbformat": 4,
 "nbformat_minor": 5
}
