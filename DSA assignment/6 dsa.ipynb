{
 "cells": [
  {
   "cell_type": "markdown",
   "id": "b9dc42ed",
   "metadata": {},
   "source": [
    "##### `6. Read about infix, prefix, and postfix expressions. Write a program to convert postfix to prefix expression.`"
   ]
  },
  {
   "cell_type": "code",
   "execution_count": 15,
   "id": "5cbf1bb0",
   "metadata": {},
   "outputs": [
    {
     "name": "stdout",
     "output_type": "stream",
     "text": [
      "enter postfix expressionab+cd-\n",
      "['a', 'b', '+', 'c', 'd', '-']\n",
      "ab+cd- to +ab-cd\n"
     ]
    }
   ],
   "source": [
    "def isOperator(op):\n",
    "    if op == \"+\":\n",
    "        return True\n",
    "    if op == \"-\":\n",
    "        return True\n",
    "    if op == \"/\":\n",
    "        return True\n",
    "    if op == \"*\":\n",
    "        return True\n",
    "    if op == \"^\":\n",
    "        return True\n",
    "    if op == \"(\":\n",
    "        return True\n",
    "    if op == \")\":\n",
    "        return True\n",
    "    if op == \"%\":\n",
    "        return True\n",
    "    return False\n",
    "\n",
    "def post_to_pre(postfix):\n",
    "    s = list(postfix)\n",
    "    pre = []\n",
    "    print(s)\n",
    "    size = len(postfix)\n",
    "    for i in s:\n",
    "        if (isOperator(i)):\n",
    "            op1 = pre[-1]\n",
    "            pre.pop()\n",
    "            op2 = pre[-1]\n",
    "            pre.pop()\n",
    "            temp = i + op2 + op1\n",
    "            pre.append(temp)\n",
    "        else:\n",
    "            pre.append(i)\n",
    "    prefix = ''\n",
    "    for i in pre:\n",
    "        prefix += i\n",
    "    return prefix\n",
    "postfix = input(\"enter postfix expression\")  \n",
    "result = post_to_pre(postfix)\n",
    "print(f\"{postfix} to {result}\")"
   ]
  },
  {
   "cell_type": "code",
   "execution_count": null,
   "id": "c27a6a9b",
   "metadata": {},
   "outputs": [],
   "source": []
  }
 ],
 "metadata": {
  "kernelspec": {
   "display_name": "Python 3 (ipykernel)",
   "language": "python",
   "name": "python3"
  },
  "language_info": {
   "codemirror_mode": {
    "name": "ipython",
    "version": 3
   },
   "file_extension": ".py",
   "mimetype": "text/x-python",
   "name": "python",
   "nbconvert_exporter": "python",
   "pygments_lexer": "ipython3",
   "version": "3.9.7"
  }
 },
 "nbformat": 4,
 "nbformat_minor": 5
}
