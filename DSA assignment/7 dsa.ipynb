{
 "cells": [
  {
   "cell_type": "markdown",
   "id": "f9f900db",
   "metadata": {},
   "source": [
    "####  Write a program to convert prefix expression to infix expression."
   ]
  },
  {
   "cell_type": "code",
   "execution_count": null,
   "id": "11c9e783",
   "metadata": {},
   "outputs": [],
   "source": []
  },
  {
   "cell_type": "code",
   "execution_count": 11,
   "id": "18ef14fb",
   "metadata": {},
   "outputs": [
    {
     "name": "stdout",
     "output_type": "stream",
     "text": [
      "enter prefixed expression*-ab+cd\n",
      "infixed expression is ((a-b)*(c+d))\n"
     ]
    }
   ],
   "source": [
    "def isOperator(op):\n",
    "    if op == \"+\":\n",
    "        return True\n",
    "    if op == \"-\":\n",
    "        return True\n",
    "    if op == \"/\":\n",
    "        return True\n",
    "    if op == \"*\":\n",
    "        return True\n",
    "    if op == \"^\":\n",
    "        return True\n",
    "    if op == \"(\":\n",
    "        return True\n",
    "    if op == \")\":\n",
    "        return True\n",
    "    if op == \"%\":\n",
    "        return True\n",
    "    return False\n",
    "def pre_to_in(pre):\n",
    "    pre = list(pre)\n",
    "    i = len(pre)\n",
    "    stack = []\n",
    "    while i > 0:\n",
    "        if isOperator(pre[i-1]):\n",
    "            op1 = stack.pop() \n",
    "            op2 = stack.pop()\n",
    "            str = \"(\" + op1 + pre[i-1] + op2 + \")\"\n",
    "            stack.append(str)\n",
    "            i -= 1\n",
    "        else:\n",
    "            stack.append(pre[i-1])\n",
    "            i -= 1\n",
    "    infix = ''\n",
    "    for i in stack:\n",
    "        infix +=i\n",
    "    print(f\"infixed expression is {infix}\")\n",
    "        \n",
    "    \n",
    "pre = input(\"enter prefixed expression\")\n",
    "pre_to_in(pre)"
   ]
  },
  {
   "cell_type": "code",
   "execution_count": null,
   "id": "83fd1d9d",
   "metadata": {},
   "outputs": [],
   "source": []
  }
 ],
 "metadata": {
  "kernelspec": {
   "display_name": "Python 3 (ipykernel)",
   "language": "python",
   "name": "python3"
  },
  "language_info": {
   "codemirror_mode": {
    "name": "ipython",
    "version": 3
   },
   "file_extension": ".py",
   "mimetype": "text/x-python",
   "name": "python",
   "nbconvert_exporter": "python",
   "pygments_lexer": "ipython3",
   "version": "3.9.7"
  }
 },
 "nbformat": 4,
 "nbformat_minor": 5
}
