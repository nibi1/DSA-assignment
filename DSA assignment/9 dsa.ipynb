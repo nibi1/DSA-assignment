{
 "cells": [
  {
   "cell_type": "markdown",
   "id": "043fdc9b",
   "metadata": {},
   "source": [
    "# Write a program to reverse a stack."
   ]
  },
  {
   "cell_type": "code",
   "execution_count": 65,
   "id": "829ef295",
   "metadata": {},
   "outputs": [],
   "source": [
    "class Resverse_a_stack:\n",
    "    def __init__(self,limit):\n",
    "        self.limit = limit\n",
    "        self.elements = []\n",
    "        \n",
    "    def push(self):\n",
    "        if len(self.elements)== self.limit:\n",
    "            print('stack is full')\n",
    "        else:\n",
    "            element = input(\"Enter elements to stack: \")\n",
    "            self.elements.append(element)\n",
    "    def display(self):\n",
    "        print(f\"The original stack is {self.elements}\")\n",
    "            \n",
    "            \n",
    "    def reverse(self):\n",
    "        if len(self.elements) == 0:\n",
    "            print(\"Stack is empty\")\n",
    "        else:\n",
    "            print(\"The reversed stack is :\")\n",
    "            self.elements.reverse()\n",
    "            print(self.elements)"
   ]
  },
  {
   "cell_type": "code",
   "execution_count": 66,
   "id": "0866e644",
   "metadata": {},
   "outputs": [],
   "source": [
    "stack = Resverse_a_stack(3)\n"
   ]
  },
  {
   "cell_type": "code",
   "execution_count": 70,
   "id": "c573abb8",
   "metadata": {},
   "outputs": [
    {
     "name": "stdout",
     "output_type": "stream",
     "text": [
      "Enter elements to stack: erer\n"
     ]
    }
   ],
   "source": [
    "stack.push()\n"
   ]
  },
  {
   "cell_type": "code",
   "execution_count": 71,
   "id": "ef58b103",
   "metadata": {},
   "outputs": [
    {
     "name": "stdout",
     "output_type": "stream",
     "text": [
      "The original stack is ['12', '897', 'erer']\n"
     ]
    }
   ],
   "source": [
    "stack.display()"
   ]
  },
  {
   "cell_type": "code",
   "execution_count": 72,
   "id": "a2919fa2",
   "metadata": {},
   "outputs": [
    {
     "name": "stdout",
     "output_type": "stream",
     "text": [
      "The reversed stack is :\n",
      "['erer', '897', '12']\n"
     ]
    }
   ],
   "source": [
    "stack.reverse()"
   ]
  },
  {
   "cell_type": "code",
   "execution_count": null,
   "id": "760617af",
   "metadata": {},
   "outputs": [],
   "source": []
  }
 ],
 "metadata": {
  "kernelspec": {
   "display_name": "Python 3 (ipykernel)",
   "language": "python",
   "name": "python3"
  },
  "language_info": {
   "codemirror_mode": {
    "name": "ipython",
    "version": 3
   },
   "file_extension": ".py",
   "mimetype": "text/x-python",
   "name": "python",
   "nbconvert_exporter": "python",
   "pygments_lexer": "ipython3",
   "version": "3.9.7"
  }
 },
 "nbformat": 4,
 "nbformat_minor": 5
}
